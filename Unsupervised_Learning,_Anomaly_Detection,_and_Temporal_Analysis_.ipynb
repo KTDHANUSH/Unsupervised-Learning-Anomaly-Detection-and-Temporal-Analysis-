{
  "nbformat": 4,
  "nbformat_minor": 0,
  "metadata": {
    "colab": {
      "provenance": []
    },
    "kernelspec": {
      "name": "python3",
      "display_name": "Python 3"
    },
    "language_info": {
      "name": "python"
    }
  },
  "cells": [
    {
      "cell_type": "markdown",
      "source": [
        "# ***Unsupervised Learning, Anomaly Detection, and Temporal Analysis ***\n",
        "\n",
        "---\n",
        "\n"
      ],
      "metadata": {
        "id": "R_XUJnohFbLd"
      }
    },
    {
      "cell_type": "markdown",
      "source": [
        "Question 1 : What is Dimensionality Reduction? Why is it important in machine\n",
        "learning?\n",
        "**Answer:**\n",
        "Dimensionality Reduction is the process of reducing the number of input features in a dataset while preserving its essential patterns and structure.\n",
        "It’s important because:\n",
        "\n",
        "It removes redundant or irrelevant features, reducing model complexity.\n",
        "\n",
        "It prevents overfitting, especially when data is small.\n",
        "\n",
        "It improves visualization by converting data into 2D or 3D.\n",
        "\n",
        "It speeds up computation and simplifies models for better generalization."
      ],
      "metadata": {
        "id": "oXXWBd0zFmq2"
      }
    },
    {
      "cell_type": "markdown",
      "source": [
        "Question 2: Name and briefly describe three common dimensionality reduction\n",
        "techniques..\n",
        "**Answer:**\n",
        "\n",
        "Principal Component Analysis (PCA):\n",
        "Transforms correlated features into new uncorrelated components that explain maximum variance.\n",
        "\n",
        "Linear Discriminant Analysis (LDA):\n",
        "Projects data to maximize class separation — useful for supervised classification.\n",
        "\n",
        "t-Distributed Stochastic Neighbor Embedding (t-SNE):\n",
        "Non-linear method mainly used for visualizing high-dimensional data in 2D or 3D."
      ],
      "metadata": {
        "id": "K4YzBGyrFrQl"
      }
    },
    {
      "cell_type": "markdown",
      "source": [
        "Question 3: What is clustering in unsupervised learning? Mention three popular\n",
        "clustering algorithms.\n",
        "**Answer:**\n",
        "Clustering is an unsupervised learning technique that groups data points based on similarity, without labeled outcomes.\n",
        "Three popular algorithms are:\n",
        "\n",
        "K-Means Clustering – Divides data into k clusters by minimizing intra-cluster distance.\n",
        "\n",
        "Hierarchical Clustering – Builds a tree-like structure (dendrogram) based on data similarity.\n",
        "\n",
        "DBSCAN (Density-Based Spatial Clustering of Applications with Noise) – Groups dense regions and detects outliers as noise.\n",
        "\n"
      ],
      "metadata": {
        "id": "WenfzOZMFtvR"
      }
    },
    {
      "cell_type": "markdown",
      "source": [
        "Question 4: Explain the concept of anomaly detection and its significance.\n",
        "**Answer:**\n",
        "Anomaly detection is identifying data points that deviate significantly from the normal pattern.\n",
        "It’s significant because it helps detect:\n",
        "\n",
        "Fraudulent transactions in finance.\n",
        "\n",
        "Defective items in manufacturing.\n",
        "\n",
        "Network intrusions in cybersecurity.\n",
        "\n",
        "Medical irregularities in healthcare monitoring."
      ],
      "metadata": {
        "id": "7YRV3AG2Fwfi"
      }
    },
    {
      "cell_type": "markdown",
      "source": [
        "Question 5: List and briefly describe three types of anomaly detection techniques\n",
        "**Answer:**\n",
        "\n",
        "Statistical Methods:\n",
        "Detect anomalies by identifying values outside normal distribution (e.g., z-score, IQR).\n",
        "\n",
        "Distance-Based Methods:\n",
        "Detect anomalies based on distance from other points (e.g., KNN-based).\n",
        "\n",
        "Machine Learning Methods:\n",
        "Use models like Isolation Forest, One-Class SVM, or Autoencoders to detect unusual patterns."
      ],
      "metadata": {
        "id": "tQCaIIFHFyoi"
      }
    },
    {
      "cell_type": "markdown",
      "source": [
        "Question 6: What is time series analysis? Mention two key components of time series\n",
        "data.\n",
        "**Answer:**\n",
        "Time Series Analysis studies data points collected over time to identify trends, patterns, or future predictions.\n",
        "Key components:\n",
        "\n",
        "Trend: Long-term movement or direction in the data.\n",
        "\n",
        "Seasonality: Regular patterns that repeat over fixed intervals (daily, weekly, yearly)."
      ],
      "metadata": {
        "id": "jzVYUWY7F01K"
      }
    },
    {
      "cell_type": "markdown",
      "source": [
        "Question 7: Describe the difference between seasonality and cyclic behavior in time\n",
        "series\n",
        "**Answer:**\n",
        "\n",
        "Seasonality: Repeats at regular intervals (e.g., increased sales every December).\n",
        "\n",
        "Cyclic Behavior: Irregular, depends on economic or external factors (e.g., business cycles).\n",
        "👉 In short: Seasonality is time-based, while cycles are event-based and unpredictable"
      ],
      "metadata": {
        "id": "mRBnz02QF358"
      }
    },
    {
      "cell_type": "code",
      "source": [
        "#8Question 8: Write Python code to perform K-means clustering on a sample dataset.\n",
        "#(Include your Python code and output in the code box below.)\n",
        "# Question 8 - K-Means Clustering Example\n",
        "from sklearn.datasets import make_blobs\n",
        "from sklearn.cluster import KMeans\n",
        "import matplotlib.pyplot as plt\n",
        "\n",
        "# Create sample dataset\n",
        "X, y = make_blobs(n_samples=200, centers=3, random_state=42)\n",
        "\n",
        "# Train K-Means model\n",
        "kmeans = KMeans(n_clusters=3, random_state=42)\n",
        "kmeans.fit(X)\n",
        "\n",
        "# Plot results\n",
        "plt.scatter(X[:, 0], X[:, 1], c=kmeans.labels_, cmap='rainbow')\n",
        "plt.scatter(kmeans.cluster_centers_[:, 0], kmeans.cluster_centers_[:, 1],\n",
        "            color='black', marker='x', s=100, label='Centers')\n",
        "plt.title(\"K-Means Clustering\")\n",
        "plt.legend()\n",
        "plt.show()\n",
        "\n",
        "print(\"Cluster Centers:\\n\", kmeans.cluster_centers_)\n"
      ],
      "metadata": {
        "colab": {
          "base_uri": "https://localhost:8080/",
          "height": 521
        },
        "id": "Op0mzoGhGs0-",
        "outputId": "b5768286-c682-4ed3-ecdb-bce9eb02616f"
      },
      "execution_count": 1,
      "outputs": [
        {
          "output_type": "display_data",
          "data": {
            "text/plain": [
              "<Figure size 640x480 with 1 Axes>"
            ],
            "image/png": "[encoded data removed]"
          },
          "metadata": {}
        },
        {
          "output_type": "stream",
          "name": "stdout",
          "text": [
            "Cluster Centers:\n",
            " [[-2.65882129  8.95756821]\n",
            " [-6.74539381 -6.85144337]\n",
            " [ 4.63218228  2.10121377]]\n"
          ]
        }
      ]
    },
    {
      "cell_type": "code",
      "source": [
        "#Question 9: What is inheritance in OOP? Provide a simple example in Python.\n",
        "# Question 9 - Inheritance Example\n",
        "class Vehicle:\n",
        "    def __init__(self, brand):\n",
        "        self.brand = brand\n",
        "    def drive(self):\n",
        "        print(f\"{self.brand} is moving...\")\n",
        "\n",
        "class Car(Vehicle):\n",
        "    def __init__(self, brand, model):\n",
        "        super().__init__(brand)\n",
        "        self.model = model\n",
        "    def show(self):\n",
        "        print(f\"This is a {self.brand} {self.model}.\")\n",
        "\n",
        "car1 = Car(\"Toyota\", \"Supra\")\n",
        "car1.drive()\n",
        "car1.show()\n"
      ],
      "metadata": {
        "colab": {
          "base_uri": "https://localhost:8080/"
        },
        "id": "Wavp9CKuF_IS",
        "outputId": "3620adbf-60a4-469c-9ea6-99a9ee5500c5"
      },
      "execution_count": 2,
      "outputs": [
        {
          "output_type": "stream",
          "name": "stdout",
          "text": [
            "Toyota is moving...\n",
            "This is a Toyota Supra.\n"
          ]
        }
      ]
    },
    {
      "cell_type": "code",
      "source": [
        "#Question 10: How can time series analysis be used for anomaly detection?\n",
        "Answer:\n",
        "Time Series Analysis can detect anomalies by identifying points where values deviate from expected temporal patterns.\n",
        "Approach:\n",
        "\n",
        "Model Normal Behavior: Use models like ARIMA, LSTM, or Prophet to predict future values.\n",
        "\n",
        "Calculate Residuals: Compute difference between predicted and actual values.\n",
        "\n",
        "Detect Outliers: Mark points with large residuals as anomalies.\n",
        "\n",
        "Example Use Cases:\n",
        "\n",
        "Detect sudden drops in website traffic.\n",
        "\n",
        "Identify abnormal machine vibration in manufacturing.\n",
        "\n",
        "Monitor server health for unusual spikes."
      ],
      "metadata": {
        "id": "wCUGsxMzGCDU"
      },
      "execution_count": null,
      "outputs": []
    }
  ]
}